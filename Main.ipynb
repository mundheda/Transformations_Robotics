{
 "cells": [
  {
   "cell_type": "markdown",
   "metadata": {},
   "source": [
    "# Assignment 1: Transformations\n",
    "\n",
    "\n",
    "TEAM-ID:   22\n",
    "TEAM-NAME: grip-force  \n",
    "YOUR-ID: \n",
    "YOUR-NAME:   \n",
    "\n",
    "(Although you work in groups, both the students have to submit to Moodle, hence there's name field above)"
   ]
  },
  {
   "cell_type": "markdown",
   "metadata": {},
   "source": [
    "# Instructions\n",
    "- Please check Moodle for \"TEAM-ID\" and \"TEAM-NAME\" fields above. Some of your names have been edited because of redundancy/simplicity. Instructions for submitting the assignment through GitHub Classrooms/Moodle has been uploaded on Moodle. Any clarifications will be made there itself.\n",
    "- Code must be written in Python in Jupyter Notebooks. We highly recommend using anaconda distribution or at the minimum, virtual environments for this assignment. See `./misc/installation` for detailed step-by-step instructions about the installation setup.\n",
    "- Both the team members must submit the zip file.\n",
    "- For this assignment, you will be using Open3D extensively. Refer to [Open3D Documentation](http://www.open3d.org/docs/release/): you can use the in-built methods and **unless explicitly mentioned**, don't need to code from scratch for this assignment. Make sure your code is modular since you will be reusing them for future assignments.\n",
    "- Take a look at the entire assignment. The descriptive questions at the end might have a clue if you are stuck somewhere.\n",
    "- Answer the descriptive questions in your own words with context & clarity. Do not just copy-paste from some Wikipedia page. You will be evaluated accordingly.\n",
    "- Please call the visualization functions only when they are asked. They are asked explicitly at the end of every section.\n",
    "- You could split the Jupyter Notebook cells where `TODO` is written, but please try to avoid splitting/changing the structure of other cells."
   ]
  },
  {
   "cell_type": "code",
   "execution_count": 1,
   "metadata": {},
   "outputs": [],
   "source": [
    "import open3d as o3d\n",
    "import copy\n",
    "import numpy as np\n",
    "from scipy.linalg import logm\n",
    "from scipy.spatial.transform import Rotation as R\n",
    "from scipy.optimize import fsolve"
   ]
  },
  {
   "cell_type": "markdown",
   "metadata": {},
   "source": [
    "# 1. Getting started with Open3D\n",
    "## 1.1 Converting RGBD image into Point Cloud\n",
    "\n",
    "\n",
    "In your robotics journey, it is common to be given just the depth images along with camera parameters in a generic dataset and you'd want to build a 3D data representation out of it, for example, a point cloud. You will understand the math behind these concepts in detail during Vision classes, for now, you can use the in-built functions as a black box.\n",
    "- Below are the given RGB and D images from SUN RGB-D dataset ([S.Song, CVPR 2015](https://rgbd.cs.princeton.edu/)). \n",
    "![low-res-RGBD.resized.png](./misc/low-res-RGBD.png)\n",
    "\n",
    "- Read these two images `color.jpg` and `depth.png` given in current folder using Open3D. Convert it to a point cloud using the default camera parameters (`o3d.camera.PinholeCameraIntrinsicParameters.PrimeSenseDefault`).\n",
    "Then,\n",
    "- Create a \"world\" frame $A$ and combine this (just use $+$ operator) with the above point cloud and save it as `scene.pcd`. Put it aside for now.\n",
    "- Write a simple function `one_one` to visualize `scene.pcd`."
   ]
  },
  {
   "cell_type": "code",
   "execution_count": 2,
   "metadata": {},
   "outputs": [],
   "source": [
    "##############################################################################\n",
    "# TODO: Do tasks described in 1.1                                            #\n",
    "##############################################################################\n",
    "# Replace \"pass\" statement with your code\n",
    "\n",
    "#Reading Images\n",
    "img_color = o3d.io.read_image(\"color.jpg\")\n",
    "img_depth = o3d.io.read_image(\"depth.png\")\n",
    "\n",
    "#Creating RGBD\n",
    "#rgbd_image = o3d.geometry.RGBDImage.create_from_color_and_depth(\n",
    "#    img_color, img_depth)\n",
    "\n",
    "rgbd_image = o3d.geometry.RGBDImage.create_from_sun_format(\n",
    "        img_color, img_depth)\n",
    "\n",
    "#create point cloud\n",
    "pcd = o3d.geometry.PointCloud.create_from_rgbd_image(\n",
    "        rgbd_image,\n",
    "        o3d.camera.PinholeCameraIntrinsic(\n",
    "            o3d.camera.PinholeCameraIntrinsicParameters.PrimeSenseDefault))\n",
    "\n",
    "# Flipping the pointcloud, or it will be upside down\n",
    "pcd.transform([[1, 0, 0, 0], [0, -1, 0, 0], [0, 0, -1, 0], [0, 0, 0, 1]])\n",
    "\n",
    "#size of cube\n",
    "size_cube = 0.5\n",
    "# pick_points(pcd)\n",
    "[gx, gy, gz] = [-0.28, -0.85+size_cube/2, -3.7] #point on the 'ground'\n",
    "\n",
    "\n",
    "# create co-ordinate frame\n",
    "crd_size = 0.55 #size of coordinate frame\n",
    "A = o3d.geometry.TriangleMesh.create_coordinate_frame(size = crd_size, origin = [-gx,-gy,-gz])\n",
    "\n",
    "# create scene.pcd[world frm + pntcld] \n",
    "o3d.io.write_point_cloud(\"scene.pcd\", pcd + A.sample_points_uniformly(number_of_points= 500))\n",
    "\n",
    "def one_one(file_name): #Visualizes scene.pcd\n",
    "    PntCld = o3d.io.read_point_cloud(file_name)\n",
    "#     pick_points(PntCld)\n",
    "    o3d.visualization.draw_geometries([PntCld])\n",
    "#     vis = o3d.visualization.Visualizer()\n",
    "#     vis.create_window()\n",
    "#     vis.add_geometry(pcd)\n",
    "#     vis.run()\n",
    "#     vis.destroy_window()\n",
    "\n",
    "\n",
    "# some points on the floor:\n",
    "# [Open3D INFO] Picked point #189171 (-0.28, -0.93, -3.3) to add in queue.\n",
    "# [Open3D INFO] Picked point #193355 (-0.076, -0.95, -3.2) to add in queue.\n",
    "# [Open3D INFO] Picked point #200426 (-0.28, -0.96, -3) to add in queue.\n",
    "# [Open3D INFO] Picked point #211726 (-0.28, -0.97, -2.7) to add in queue.\n",
    "# [Open3D INFO] Picked point #209984 (-0.055, -0.96, -2.7) to add in queue.\n",
    "# [Open3D INFO] Picked point #218866 (-0.051, -0.97, -2.6) to add in queue.\n",
    "\n",
    "##############################################################################\n",
    "#                             END OF YOUR CODE                               #\n",
    "##############################################################################"
   ]
  },
  {
   "cell_type": "markdown",
   "metadata": {},
   "source": [
    "### Question for 1.1\n",
    "\n",
    "- In the next code cell, call the function `one_one` here showing `scene.pcd`."
   ]
  },
  {
   "cell_type": "code",
   "execution_count": 3,
   "metadata": {},
   "outputs": [],
   "source": [
    "#uncomment the following and add input parameters if any\n",
    "one_one(\"scene.pcd\")"
   ]
  },
  {
   "cell_type": "markdown",
   "metadata": {},
   "source": [
    "# 2. Rotations, Euler angles and Gimbal Lock\n",
    "\n",
    "## 2.1 Rotating an object\n",
    "\n",
    "The objective here is to roughly simulate an object moving on a ground.\n",
    "\n",
    "- Generate a cube at some point on the ground and create another frame $B$ at the center of this object. Combine these both as a single point cloud `cube.pcd`. (You can pick a point on the ground by using the `get_picked_points` method of the class `open3d.visualization.VisualizerWithEditing`.)\n",
    "- Now read both the point clouds `scene.pcd` and `cube.pcd` in a script. Whatever tasks you do below are on the object `cube.pcd` (along with the axes $B$) with `scene.pcd` in the background (static).\n",
    "- Given a sequence of **ZYX Euler** angles $[30^{\\circ}, 90^{\\circ}, 45^{\\circ}]$, generate the rotation. In our case, our object (with its respective axis) undergoes rotation with the background being fixed (with its respective axis).\n",
    "- Note: Throughout this assignment, we will be using the standard **ZYX** Euler angle convention.\n",
    "- Write a function `two_one` to show the above by **animation** (cube rotating along each axis one by one).\n",
    "    - *Hint: Use Open3D's non-blocking visualization and discretize the rotation to simulate the animation. For example, if you want to rotate by $30^{\\circ}$ around a particular axis, do in increments of $5^{\\circ}$ 6 times to make it look like an animation.*"
   ]
  },
  {
   "cell_type": "code",
   "execution_count": 4,
   "metadata": {},
   "outputs": [],
   "source": [
    "##############################################################################\n",
    "# TODO: Do tasks described in 2.1                                            #\n",
    "##############################################################################\n",
    "# Replace \"pass\" statement with your code\n",
    "import time\n",
    "\n",
    "# pick points function\n",
    "def pick_points(pcd):\n",
    "    print(\"\")\n",
    "    print(\n",
    "        \"1) Please pick at least three correspondences using [shift + left click]\"\n",
    "    )\n",
    "    print(\"   Press [shift + right click] to undo point picking\")\n",
    "    print(\"2) Afther picking points, press q for close the window\")\n",
    "    vis = o3d.visualization.VisualizerWithEditing()\n",
    "    vis.create_window()\n",
    "    vis.add_geometry(pcd)\n",
    "    vis.run()  # user picks points\n",
    "    vis.destroy_window()\n",
    "    print(\"\")\n",
    "    return vis.get_picked_points()\n",
    "\n",
    "\n",
    "\n",
    "cube = o3d.geometry.TriangleMesh.create_box(width=size_cube, height=size_cube, depth=size_cube)\n",
    "cube.paint_uniform_color([0.9, 0.9, 0.1])\n",
    "\n",
    "# cube.compute_vertex_normals()\n",
    "# create co-ordinate frame\n",
    "B = o3d.geometry.TriangleMesh.create_coordinate_frame(size = crd_size, origin = [-size_cube/2, -size_cube/2, -size_cube/2]) \n",
    "B_cube = B.sample_points_uniformly(number_of_points=1000) + cube.sample_points_uniformly(number_of_points=5000)\n",
    "# translate cube\n",
    "B_cube.translate((gx,gy,gz), relative = False)\n",
    "\n",
    "o3d.io.write_point_cloud(\"cube.pcd\", B_cube)\n",
    "scene_pcd = o3d.io.read_point_cloud(\"scene.pcd\")\n",
    "cube_pcd = o3d.io.read_point_cloud(\"cube.pcd\")\n",
    "\n",
    "\n",
    "# pick_points(scene_pcd)\n",
    "# one_one(\"cube.pcd\")\n",
    "\n",
    "#visualization of cube on the ground\n",
    "# o3d.visualization.draw_geometries([cube_pcd, scene_pcd])\n",
    "pass\n",
    "\n",
    "\n",
    "def two_one(E, bgrnd, obj): #non-blocking visualization; animation of cube\n",
    "#     E = [z,y,x] Euler angles. 'bgnrnd' is background onject(static). obj is object tht has to be rotated\n",
    "#     copy of input pntclds to preserve them\n",
    "    obj_temp = copy.deepcopy(obj)\n",
    "    bgrnd_temp = copy.deepcopy(bgrnd)\n",
    "    \n",
    "    vis = o3d.visualization.Visualizer()\n",
    "    vis.create_window()\n",
    "    vis.add_geometry(bgrnd_temp)\n",
    "    vis.add_geometry(obj_temp)\n",
    "    save_image = False\n",
    "    wait_time =  0.5 \n",
    "    \n",
    "    parameter_indx = 1 #index of parameter\n",
    "    angle_incrmnt = np.pi/36 #the angle by which we increment the rotation in each 'frame of animation'\n",
    "    \n",
    "    for Param in E:\n",
    "        increments = int(Param/5) #no. of increments\n",
    "        for angle in range(1,increments+1): #loop runs for increments times,calculates rotation mat for each step\n",
    "            \n",
    "            if(parameter_indx == 1):#zrot\n",
    "                R = obj_temp.get_rotation_matrix_from_zyx( (angle_incrmnt*angle, 0, 0) )\n",
    "            elif(parameter_indx == 2):#yrot\n",
    "                R = obj_temp.get_rotation_matrix_from_zyx( (np.deg2rad(E[0]),angle_incrmnt*angle,0) )\n",
    "            elif(parameter_indx == 3):#xrot\n",
    "                R = obj_temp.get_rotation_matrix_from_zyx( ( np.deg2rad(E[0]), np.deg2rad(E[1]), angle_incrmnt*angle ) )\n",
    "            \n",
    "            obj_temp.rotate(R, center=(gx,gy,gz)) #rotate\n",
    "            vis.update_geometry(obj_temp) #update geometry\n",
    "            vis.poll_events()\n",
    "            vis.update_renderer()\n",
    "            time.sleep(wait_time)            \n",
    "            obj_temp.rotate(np.transpose(R), center=(gx,gy,gz)) #undo rotation\n",
    "            \n",
    "        parameter_indx += 1\n",
    "        \n",
    "    R = obj_temp.get_rotation_matrix_from_zyx( ( np.deg2rad(E[0]), np.deg2rad(E[1]), np.deg2rad(E[2]) ) ) #final position\n",
    "    obj_temp.rotate(R, center=(gx,gy,gz)) #rotate\n",
    "    time.sleep(3) #observation time\n",
    "    vis.destroy_window()\n",
    "    \n",
    "    \n",
    "##############################################################################\n",
    "#                             END OF YOUR CODE                               #\n",
    "##############################################################################"
   ]
  },
  {
   "cell_type": "markdown",
   "metadata": {},
   "source": [
    "### Question for 2.1\n",
    "\n",
    "- In the next code cell, call the function `two_one` here showing the animation described in section 2.1."
   ]
  },
  {
   "cell_type": "code",
   "execution_count": 5,
   "metadata": {},
   "outputs": [],
   "source": [
    "#uncomment the following and add input parameters if any\n",
    "two_one([30,90,45],scene_pcd,cube_pcd)"
   ]
  },
  {
   "cell_type": "markdown",
   "metadata": {},
   "source": [
    "## 2.2 Euler angle & Gimbal lock\n",
    "\n",
    "Code the following yourself from scratch (Refer Craig book - Section: $Z-Y-X$ Euler angles - same conventions/notations followed).\n",
    "\n",
    "- Case 1: Given the rotation matrix $M_{given}$ below, extract Euler angles $\\alpha , \\beta ,\\gamma$. Convert it back to the rotation matrix $M_{recovered}$ from Euler angles.\n",
    "\n",
    "    $$M(\\alpha , \\beta ,\\gamma)=\\left[\\begin{array}{rrr}0.26200263 & -0.19674724 & 0.944799 \\\\0.21984631 & 0.96542533 & 0.14007684 \\\\\n",
    "    -0.93969262 & 0.17101007 & 0.29619813\\end{array}\\right] $$\n",
    "\n",
    "    After coding it from scratch, check your calculations using `scipy.spatial.transform.Rotation`. (Mandatory)\n",
    "\n",
    "- Case 2: Given the rotation matrix $N_{given}$, extract Euler angles, and convert back $N_{recovered}$.\n",
    "\n",
    "    $$N(\\alpha , \\beta ,\\gamma)=\\left[\\begin{array}{rrr}0 & -0.173648178 &  0.984807753 \\\\0 & 0.984807753 & 0.173648178 \\\\\n",
    "    -1 & 0 & 0\\end{array}\\right] $$\n",
    "\n",
    "    Again use `scipy` and check its output. If `scipy` is showing any warnings on any of the above cases, explain it in \"**Questions for 2.2**\" (last question). Write code in the next cell.\n",
    "    \n",
    "- (Optional) Case 3: Do the above two for quaternion using scipy functions, i.e. given the rotation matrix, extract quaternion and convert back."
   ]
  },
  {
   "cell_type": "code",
   "execution_count": 6,
   "metadata": {
    "deletable": false,
    "editable": false
   },
   "outputs": [],
   "source": [
    "##############################################################################\n",
    "# DON'T EDIT\n",
    "M_given =  np.array([[0.26200263, -0.19674724, 0.944799],\n",
    "                     [0.21984631, 0.96542533, 0.14007684],\n",
    "                     [-0.93969262, 0.17101007, 0.29619813]])\n",
    "\n",
    "N_given = np.array([[0,-0.173648178,0.984807753],\n",
    "                    [0, 0.984807753, 0.173648178],\n",
    "                    [-1, 0, 0]])"
   ]
  },
  {
   "cell_type": "code",
   "execution_count": 7,
   "metadata": {},
   "outputs": [
    {
     "name": "stdout",
     "output_type": "stream",
     "text": [
      "Case 1:\n",
      "Angles as per code from scratch (in radians) [α,β,γ] :  [0.6981317003487097, 1.2217304765297095, 0.5235987753730347]\n",
      "Angles from scipy function (in radians) [α,β,γ] :  [ 0.64409997  1.2369806  -0.44174663]\n",
      "M_given : \n",
      "[[ 0.26200263 -0.19674724  0.944799  ]\n",
      " [ 0.21984631  0.96542533  0.14007684]\n",
      " [-0.93969262  0.17101007  0.29619813]]\n",
      "M_recovered : \n",
      "[[ 0.26200263 -0.19674724  0.944799  ]\n",
      " [ 0.21984631  0.96542534  0.14007684]\n",
      " [-0.93969262  0.17101007  0.29619813]]\n",
      "\n",
      "\n",
      "Case 2:\n",
      "Angles as per code from scratch (in radians) [α,β,γ] :  [0, 1.5707963267948966, -0.17453292552956243]\n",
      "Angles from scipy function (in radians) [α,β,γ] :  [ 1.57079633  1.3962634  -1.57079633]\n",
      "N_given : \n",
      "[[ 0.         -0.17364818  0.98480775]\n",
      " [ 0.          0.98480775  0.17364818]\n",
      " [-1.          0.          0.        ]]\n",
      "N_recovered : \n",
      "[[ 6.12323400e-17  5.00000000e-01  8.66025404e-01]\n",
      " [ 0.00000000e+00  8.66025404e-01 -5.00000000e-01]\n",
      " [-1.00000000e+00  3.06161700e-17  5.30287619e-17]]\n",
      "\n",
      "\n",
      "Case 3:\n",
      "Quaternion of the Rotation matrix :  [0.00973605 0.59313249 0.13112033 0.79429624]\n",
      "Rotation matrix from the Quaternion \n",
      " [[ 0.26200263 -0.19674724  0.944799  ]\n",
      " [ 0.21984631  0.96542534  0.14007684]\n",
      " [-0.93969262  0.17101007  0.29619813]]\n",
      "\n",
      "\n",
      "Quaternion of the Rotation matrix :  [-0.06162842  0.70441603  0.06162842  0.70441603]\n",
      "Rotation matrix from the Quaternion \n",
      " [[ 0.         -0.17364818  0.98480775]\n",
      " [ 0.          0.98480775  0.17364818]\n",
      " [-1.          0.          0.        ]]\n"
     ]
    }
   ],
   "source": [
    "# TODO: Do tasks described in 2.2                                            #\n",
    "##############################################################################\n",
    "# Replace \"pass\" statement with your code\n",
    "\n",
    "def EulerAngle_from_RotationMatrix(M):  \n",
    "     \n",
    "    if M[2][0] == -1:\n",
    "        alpha = 0\n",
    "        beta = np.pi / 2\n",
    "        gamma = np.arctan2(M[0][1],M[1][1])\n",
    "        \n",
    "    elif M[2][0] == 1:\n",
    "        alpha = 0\n",
    "        beta = - np.pi / 2\n",
    "        gamma = - np.arctan2(M[0][1],M[1][1])           \n",
    "        \n",
    "    else:\n",
    "        beta = np.arctan2(-M[2][0],((M[0][0]**2 + M[1][0]**2)**(0.5))) #in radians\n",
    "        alpha = np.arctan2(M[1][0]/np.cos(beta),M[0][0]/np.cos(beta))\n",
    "        gamma = np.arctan2(M[2][1]/np.cos(beta),M[2][2]/np.cos(beta))\n",
    "       \n",
    "    return [alpha,beta,gamma]\n",
    "\n",
    "def RotationMatrix_from_EulerAngles(alpha,beta,gama):\n",
    "     \n",
    "    [sa,sb,sc] = np.sin([alpha,beta,gama])\n",
    "    [ca,cb,cc] = np.cos([alpha,beta,gama])\n",
    "    \n",
    "    M = np.array([\n",
    "    [ca*cb, ca*sb*sc-sa*cc, ca*sb*cc+sa*sc],\n",
    "    [sa*cb, sa*sb*sc+ca*cc, sa*sb*cc-ca*sc],\n",
    "    [-sb  , cb*sc         , cb*cc         ]])\n",
    "    \n",
    "    return M\n",
    "\n",
    "M = R.from_matrix(M_given)\n",
    "[alpha,beta,gama] = EulerAngle_from_RotationMatrix(M_given)\n",
    "my_array_case1 = np.array([alpha,beta,gama])\n",
    "M_recovered = RotationMatrix_from_EulerAngles(alpha,beta,gama)\n",
    "\n",
    "print(\"Case 1:\")\n",
    "print(\"Angles as per code from scratch (in radians) [α,β,γ] : \", EulerAngle_from_RotationMatrix(M_given))\n",
    "print(\"Angles from scipy function (in radians) [α,β,γ] : \",M.as_euler('zyx'))\n",
    "print(\"M_given : \")\n",
    "print(M_given)\n",
    "print(\"M_recovered : \")\n",
    "print(RotationMatrix_from_EulerAngles(alpha,beta,gama))\n",
    "\n",
    "N = R.from_matrix(N_given)\n",
    "[alpha,beta,gamma]=EulerAngle_from_RotationMatrix(N_given)\n",
    "my_array_case2 = np.array([alpha,beta,gama])\n",
    "N_recovered = RotationMatrix_from_EulerAngles(alpha,beta,gamma)\n",
    "\n",
    "print(\"\\n\")\n",
    "print(\"Case 2:\")\n",
    "print(\"Angles as per code from scratch (in radians) [α,β,γ] : \", EulerAngle_from_RotationMatrix(N_given))\n",
    "print(\"Angles from scipy function (in radians) [α,β,γ] : \",N.as_euler('zyx'))\n",
    "print(\"N_given : \")\n",
    "print(N_given)\n",
    "print(\"N_recovered : \")\n",
    "print(RotationMatrix_from_EulerAngles(alpha,beta,gama))\n",
    "\n",
    "print(\"\\n\")\n",
    "print(\"Case 3:\")\n",
    "print(\"Quaternion of the Rotation matrix : \",M.as_quat())\n",
    "print(\"Rotation matrix from the Quaternion \\n\", R.from_quat(M.as_quat()).as_matrix())\n",
    "\n",
    "print(\"\\n\")\n",
    "print(\"Quaternion of the Rotation matrix : \",N.as_quat())\n",
    "print(\"Rotation matrix from the Quaternion \\n\", R.from_quat(N.as_quat()).as_matrix())\n",
    "##############################################################################\n",
    "#                             END OF YOUR CODE                               #\n",
    "##############################################################################"
   ]
  },
  {
   "cell_type": "markdown",
   "metadata": {},
   "source": [
    "## Questions for 2.2\n",
    "- Have you used `np.arctan` or an any equivalent `atan` function above? Why or why not?   \n",
    "    * Ans:\n",
    "        - No, we did not use np.arctan() but used np.arctan2() instead.\n",
    "        - We can get infinite answers in arctan() and we don't know the sign to determine the quadrant, but when we calculate using arctan2() it determines the quardrant in which it is present"
   ]
  },
  {
   "cell_type": "markdown",
   "metadata": {},
   "source": [
    "### For Case 1 above,\n",
    "- What Euler angles  $\\alpha , \\beta ,\\gamma$ did you get? Replace `my_array_case1` with your array."
   ]
  },
  {
   "cell_type": "code",
   "execution_count": 8,
   "metadata": {},
   "outputs": [
    {
     "name": "stdout",
     "output_type": "stream",
     "text": [
      "My Euler angles for case 1 are[0.6981317  1.22173048 0.52359878]\n"
     ]
    }
   ],
   "source": [
    "# Uncomment and replace my_array_case1 with your array. \n",
    "print(\"My Euler angles for case 1 are\" + str(my_array_case1))"
   ]
  },
  {
   "cell_type": "markdown",
   "metadata": {},
   "source": [
    "  - Were you able to recover back your rotation matrix when you converted it from Euler angles? Why/why not? Replace `M_given` and `M_recovered` with your matrices below and explain \"why/why not\" after this code snippet."
   ]
  },
  {
   "cell_type": "code",
   "execution_count": 9,
   "metadata": {},
   "outputs": [
    {
     "name": "stdout",
     "output_type": "stream",
     "text": [
      "For case 1, it is True I could recover the original matrix.\n"
     ]
    }
   ],
   "source": [
    "# Uncomment and Replace M_given and M_recovered with your matrices below.\n",
    "error = np.linalg.norm(logm(M_given @ M_recovered.T))\n",
    "print(\"For case 1, it is \" + str(error<0.0001) + \" I could recover the original matrix.\")"
   ]
  },
  {
   "cell_type": "markdown",
   "metadata": {},
   "source": [
    "- Why/why not? Based on your observations here, is there any problem with Euler angle representation for Case 1? If yes, what is it?\n",
    "\n",
    "    - Ans: \n",
    "        - No problem in extraction, because the angles have a one to one representation with the matrix and matrix could be easily recovered."
   ]
  },
  {
   "cell_type": "markdown",
   "metadata": {},
   "source": [
    "### Repeat the above for Case 2."
   ]
  },
  {
   "cell_type": "code",
   "execution_count": 10,
   "metadata": {
    "scrolled": true
   },
   "outputs": [
    {
     "name": "stdout",
     "output_type": "stream",
     "text": [
      "My Euler angles for case 2 are[0.         1.57079633 0.52359878]\n",
      "For case 2, it is True I could recover the original matrix.\n"
     ]
    }
   ],
   "source": [
    "# Uncomment and Replace N_given and N_recovered with your matrices below.\n",
    "print(\"My Euler angles for case 2 are\" + str(my_array_case2))\n",
    "error = np.linalg.norm(logm(N_given @ N_recovered.T))\n",
    "print(\"For case 2, it is \" + str(error<0.0001) + \" I could recover the original matrix.\")"
   ]
  },
  {
   "cell_type": "markdown",
   "metadata": {},
   "source": [
    "* Why/why not? Based on your observations here, is there any problem with Euler angle representation for Case 2? If yes, what is it?\n",
    "\n",
    "    * Ans: Yes there is problem in representation, Here $\\beta$ is 90°, -90° hence we are unable to calcuate $\\alpha ,\\gamma$ uniquely and we have to assume alpha to be 0° to get value of $\\gamma$ from arctan2(). Hence we have problem with Euler angle representation.\n",
    "    \n",
    "    \n",
    "* Explain any more problems with Euler angle representation. Explain what you understand by Gimbal lock (concisely in your own words). You could revisit this question in the section 2.4.\n",
    "    * Ans: \n",
    "        - We can't recover the exact matrix when we have a gimbal lock or/ and $\\beta$ is 90°, -90° because of the loss of one degree of freedom we have infinite solutions for $\\alpha ,\\gamma$.\n",
    "        - Gimbal lock is when we fix or align one axis, we lose one degree of freedom and hence no gimbal available to accommodate rotation about one axis. There loss of one degree of freedom in a three-dimensional leads to \"locking\" the system into rotation in a degenerate two-dimensional space. "
   ]
  },
  {
   "cell_type": "markdown",
   "metadata": {},
   "source": [
    "- When you used `scipy.spatial.transform.Rotation` for the above 2 cases,\n",
    "    - Have you used `zyx` above in `r.as_euler('')` argument? Why or why not? Explain the difference between extrinsic and instrinsic rotations with equivalent technical names from Craig book?\n",
    "        * Ans: Yes we have used 'zyx' for r.as_euler()\n",
    "            - Extrinsic rotation uses an external world frame fixed axis to rotate an object. (Fixed Frame)\n",
    "            - Instrisic rotation uses the axis and object frame for rotation. (Moving Frame)\n",
    "        \n",
    "    - Has `scipy` shown any warnings on any of the above cases? If yes, explain it.\n",
    "        * Ans: No warning was shows but they should show a warning because there occurs a gimbal lock condition in N case.\n",
    "    - (Optional) For Case 3 above (quaternion) which you did using scipy, did you observe any problem with quaternion? Depending on your observations, which is better? Quaternion or Euler angles? And why?\n",
    "         * Ans: Quaternions have no problems of gimbal lock, as it can be scene as having four gimbals. It is better to use quaternion instead of the Euler angles as 3 degrees of freedom are always ensured in the Quaternion from and no degeneracy will occur.\n"
   ]
  },
  {
   "cell_type": "markdown",
   "metadata": {},
   "source": [
    "## 2.3 Rotation matrix as an Operator\n",
    "This question will help you in your understanding of [Rotator-transform (Vector-frame) equivalence](https://www.notion.so/saishubodh/Lecture-2-Transformations-11d69d8cef2d4cd195a98fa7d33224e1#f90ece4f5e374743bfed47e46a83ecfe).\n",
    "\n",
    "![image.png](./misc/xyz-frame.png)\n",
    "Consider the frame $XYZ$ in the above image. Say you have a vector $x_1=[0,\\sqrt{3},0]$. Now you want to rotate it such that you end up at $x_2=[1,1,1]$ through a sequence of Euler angle rotations. Your goal is to find out those $\\alpha, \\beta \\: \\& \\: \\gamma$ ($ZYX$). We will follow this order whenever we refer to it below.\n",
    "\n",
    "First, properly understand the so-called \"Rotator-transform equivalence\" to figure out what are the terms of rotation matrix. Then, put the math on paper and you will end up with a set of non-linear equations. Write the set of linear equations in LaTeX here:"
   ]
  },
  {
   "cell_type": "markdown",
   "metadata": {},
   "source": [
    "$$ \\textbf{Ans: Your set of equations here} $$\n",
    "$$ cos\\alpha sin\\beta sin\\gamma - sin\\alpha cos\\gamma = 1/\\sqrt3 $$ \n",
    "$$ sin\\alpha sin\\beta sin\\gamma + cos\\alpha cos\\gamma = 1/\\sqrt3 $$ \n",
    "$$ cos\\beta sin\\gamma = 1/\\sqrt3 $$ "
   ]
  },
  {
   "cell_type": "markdown",
   "metadata": {},
   "source": [
    "Solve these equations using `fsolve` from `scipy.optimize` as follows: (Come back and answer the following questions after coding it in the next block)\n",
    "- `case1`: First, solve it with an initialization of (0,0,0). Check if your answer is correct using `np.isclose`.\n",
    "    * What Euler angles did you get? Answer in $\\alpha, \\beta \\: \\& \\: \\gamma$ format:\n",
    "        * Ans: $a_1, b_1, c_1$ = [ -0.3978 -93.7569   0.7137] \n",
    "- `case2`: Now, forget about the solver for a moment: Can you visualize and think of sequence of rotations one by one to reach the final position (which is different than previous set of rotations)? Now, validate your answer by giving (your answer $\\pm 5$) as initialization.\n",
    "    * What Euler angles did you get? Answer in $\\alpha, \\beta \\: \\& \\: \\gamma$ format:\n",
    "        * Ans: *$a_2, b_2, c_2$ = your answer here.*"
   ]
  },
  {
   "cell_type": "code",
   "execution_count": 11,
   "metadata": {
    "deletable": false,
    "editable": false
   },
   "outputs": [],
   "source": [
    "##############################################################################\n",
    "# DON'T EDIT\n",
    "x_1 = np.array([0,np.sqrt(3),0])\n",
    "x_2 = np.array([1,1,1])"
   ]
  },
  {
   "cell_type": "code",
   "execution_count": 12,
   "metadata": {},
   "outputs": [
    {
     "name": "stdout",
     "output_type": "stream",
     "text": [
      "Check if found vector is close by np.isclose() for [a1,b1,c1] :  [ True  True  True]\n",
      "Check if found vector is close by np.isclose() for [a2,b2,c2] :  [ True  True  True]\n",
      "[a1,b1,c1] :  [ -0.398 -93.757   0.714]\n",
      "[a2,b2,c2] :  [-0.801 -0.023  0.616]\n"
     ]
    }
   ],
   "source": [
    "##############################################################################\n",
    "# TODO: Do tasks described in 2.3                                            #\n",
    "##############################################################################\n",
    "# Replace \"pass\" statement with your code\n",
    "def eqn_func(x):\n",
    "    return [ np.cos(x[0])*np.sin(x[1])*np.sin(x[2]) - np.sin(x[0])*np.cos(x[2]) - 1/np.sqrt(3),\n",
    "        np.sin(x[0])*np.sin(x[1])*np.sin(x[2]) + np.cos(x[0])*np.cos(x[2]) - 1/np.sqrt(3),\n",
    "        np.cos(x[1])*np.sin(x[2]) - 1/np.sqrt(3)]\n",
    "\n",
    "\n",
    "\n",
    "a1,b1,c1 = fsolve(eqn_func, [0,0,0])\n",
    "\n",
    "visualised_ans = np.array([np.pi/4, 0 , np.pi/6])   #[-π/4, 0, π/2-cos⁻¹(1/√3)]\n",
    "error = 5 * np.pi/180\n",
    "a2,b2,c2 = fsolve(eqn_func, [-np.pi/4 - error , 0 + error , np.pi/6 - error])\n",
    "a2, b2, c2 = fsolve(eqn_func, [-0.78-error, 0+error, 0.62-error])\n",
    "\n",
    "print(\"Check if found vector is close by np.isclose() for [a1,b1,c1] : \",np.isclose(eqn_func([a1, b1, c1]), [0.0, 0.0, 0.0]))\n",
    "print(\"Check if found vector is close by np.isclose() for [a2,b2,c2] : \",np.isclose(eqn_func([a2, b2, c2]), [0.0, 0.0, 0.0]))\n",
    "print(\"[a1,b1,c1] : \",np.around([a1,b1,c1], decimals = 3))\n",
    "print(\"[a2,b2,c2] : \",np.around([a2,b2,c2], decimals = 3))\n",
    "\n",
    "\n",
    "##############################################################################\n",
    "#                             END OF YOUR CODE                               #\n",
    "##############################################################################"
   ]
  },
  {
   "cell_type": "code",
   "execution_count": 13,
   "metadata": {},
   "outputs": [],
   "source": [
    "# From Section 2.2, use the function which takes Euler angles and gives Rotation matrix as output.\n",
    "# Uncomment and replace `r_mat` with the name of the function. (Do NOT edit anything else)\n",
    "\n",
    "x_2_obtained_case1 = RotationMatrix_from_EulerAngles(a1,b1,c1) @ x_1.T #TODO: replace r_mat\n",
    "x_2_obtained_case2 = RotationMatrix_from_EulerAngles(a2,b2,c2) @ x_1.T #TODO: replace r_mat\n",
    "test = True #TODO: Set this as True"
   ]
  },
  {
   "cell_type": "code",
   "execution_count": 14,
   "metadata": {},
   "outputs": [
    {
     "name": "stdout",
     "output_type": "stream",
     "text": [
      "For case 1, it is True that I could end up at (1,1,1) after rotation.\n",
      "For case 2, it is True that I could end up at (1,1,1) after rotation.\n"
     ]
    }
   ],
   "source": [
    "# DON'T EDIT\n",
    "if test == True:\n",
    "    case1_test = np.isclose(x_2_obtained_case1,  np.array([1.0,1.0,1.0]))\n",
    "    case2_test = np.isclose(x_2_obtained_case2,  np.array([1.0,1.0,1.0]))\n",
    "    print(\"For case 1, it is \" + str(bool(case1_test[0] and case1_test[1] and case1_test[2])) + \n",
    "          \" that I could end up at (1,1,1) after rotation.\")\n",
    "    print(\"For case 2, it is \" + str(bool(case2_test[0] and case2_test[1] and case2_test[2])) + \n",
    "          \" that I could end up at (1,1,1) after rotation.\")"
   ]
  },
  {
   "cell_type": "markdown",
   "metadata": {},
   "source": [
    "## 2.4 Gimbal Lock visualization (Optional)\n",
    "\n",
    "A nice visualization video for gimbal lock is [this](https://www.youtube.com/watch?v=zc8b2Jo7mno). You are about to animate a similar visualization demonstrating gimbal lock 😃.\n",
    "\n",
    "![image.png](./misc/xyz-frame.png)\n",
    "\n",
    "- Write a function `two_four` for the visualization of gimbal lock. Follow the below steps to get the intuition going. Use Open3D for the following.\n",
    "    - Say our frame's initial position is as the above image. Now the final goal at the end of rotation is to get the $Y$ axis pointing in the direction of the vector $(x,y,z)$ that you currently see in the above image. This point is fixed in space and is NOT moving as we rotate our axis.\n",
    "    - For creating that point, you could use a small sphere using `open3d.geometry.create_mesh_sphere`. You already know how to create an axis by now.\n",
    "    - Following our $ZYX$ convention, first rotate your frame about $Z$ axis by an angle, say $-35^{\\circ}$. Then rotate about $Y$ axis by an angle ${\\beta}$ and then about $X$ by say $55^{\\circ}$.\n",
    "        - Are there any specific angle(s) $\\beta$ using which you will **never** reach our point $(x,y,z)$ ?\n",
    "            - Clue: We are specifically talking about gimbal lock here and notice the word \"never\".\n",
    "        - Under this (these) specific angle(s) of $\\beta$ & different combinations of $\\alpha$ and $\\gamma$, make an animation and clearly show why your $Y$ axis is unable to align in the direction of that vector $(x,y,z)$ using the animation.\n",
    "\n",
    "            If you are unsure to simulate the animation, you could do it as follows:\n",
    "\n",
    "            - You could first fix some $\\alpha$, say $-35^{\\circ}$ & an above value of $\\beta$, you can now vary $\\gamma$ from $-180^{\\circ} \\text{ to }180^{\\circ}$ to simulate the animation.\n",
    "            - Now fix another $\\alpha$, say $45^{\\circ}$ and repeat the above process. So that's 2 specific values of $\\alpha$.\n",
    "            - Show this for all angles of $\\beta$ if there are more than 1.\n",
    "            - Therefore, when the code is run, there should be a minimum of (2 $\\times$ (number of values of $\\beta$)) animations. 2 for values of $\\alpha$, you could show it for even more if you wish to."
   ]
  },
  {
   "cell_type": "code",
   "execution_count": 15,
   "metadata": {},
   "outputs": [],
   "source": [
    "\n",
    "##############################################################################\n",
    "# TODO: Do tasks described in 2.4                                            #\n",
    "##############################################################################\n",
    "# Replace \"pass\" statement with your code\n",
    "\n",
    "def two_four(Animate_array):\n",
    "    #define geometries\n",
    "    mesh_sphere = o3d.geometry.TriangleMesh.create_sphere(radius=0.05)\n",
    "    mesh_sphere.compute_vertex_normals()\n",
    "    mesh_sphere.paint_uniform_color([0.7, 0.8, 0.3])\n",
    "    \n",
    "    mesh_frame = o3d.geometry.TriangleMesh.create_coordinate_frame(size=2)\n",
    "    \n",
    "    mesh_sphere.translate((np.sqrt(4/3),np.sqrt(4/3),np.sqrt(4/3)))\n",
    "    \n",
    "    #create copy\n",
    "    frame_temp = copy.deepcopy(mesh_frame)\n",
    "    sphere_temp = copy.deepcopy(mesh_sphere)\n",
    "    \n",
    "    #open & initialize visualizer\n",
    "    vis = o3d.visualization.Visualizer()\n",
    "    vis.create_window()\n",
    "    vis.add_geometry(sphere_temp)\n",
    "    vis.add_geometry(frame_temp)\n",
    "\n",
    "    \n",
    "    #Animation part\n",
    "#     Animate_array = [[-45,55,20]]\n",
    "\n",
    "    for i in Animate_array:\n",
    "        vis.update_geometry(frame_temp) #update geometry\n",
    "        vis.poll_events()\n",
    "        vis.update_renderer()\n",
    "        Animation(i, sphere_temp, frame_temp, vis)  \n",
    "\n",
    "    \n",
    "    #destroy visualizer\n",
    "    vis.destroy_window()\n",
    "\n",
    "    \n",
    "    \n",
    "\n",
    "def Animation(E, bgrnd_temp, obj_temp, visual_screen): #non-blocking visualization; animation of cube\n",
    "#     E = [z,y,x] Euler angles. 'bgnrnd' is background onject(static). obj is object tht has to be rotated\n",
    "#     copy of input pntclds to preserve them\n",
    "\n",
    "\n",
    "    save_image = False\n",
    "    wait_time =  0.001 \n",
    "    \n",
    "    vis = visual_screen\n",
    "    time.sleep(2) #observation time\n",
    "    \n",
    "    parameter_indx = 1 #index of parameter\n",
    "    angle_incrmnt = np.pi/(36*5) #the angle by which we increment the rotation in each 'frame of animation'\n",
    "    \n",
    "    for Param in E:\n",
    "#         increments = int(Param/5) #no. of increments\n",
    "        for angle in range(1,abs(Param)+1): #loop runs for increments times,calculates rotation mat for each step\n",
    "            \n",
    "            if(parameter_indx == 1):#zrot\n",
    "                R = obj_temp.get_rotation_matrix_from_zyx( (angle_incrmnt*angle*np.sign(Param), 0, 0) )\n",
    "            elif(parameter_indx == 2):#yrot\n",
    "                R = obj_temp.get_rotation_matrix_from_zyx( (np.deg2rad(E[0]),angle_incrmnt*angle*np.sign(Param),0) )\n",
    "            elif(parameter_indx == 3):#xrot\n",
    "                R = obj_temp.get_rotation_matrix_from_zyx( ( np.deg2rad(E[0]), np.deg2rad(E[1]), angle_incrmnt*angle*np.sign(Param)))\n",
    "            \n",
    "            obj_temp.rotate(R, center=(0,0,0)) #rotate\n",
    "            vis.update_geometry(obj_temp) #update geometry\n",
    "            vis.poll_events()\n",
    "            vis.update_renderer()\n",
    "            time.sleep(wait_time)            \n",
    "            obj_temp.rotate(np.transpose(R), center=(0,0,0)) #undo rotation\n",
    "            \n",
    "        parameter_indx += 1\n",
    "        \n",
    "    R = obj_temp.get_rotation_matrix_from_zyx( ( np.deg2rad(E[0]), np.deg2rad(E[1]), np.deg2rad(E[2]) ) ) #final position\n",
    "    obj_temp.rotate(R, center=(0,0,0)) #rotate\n",
    "    time.sleep(2) #observation time\n",
    "    obj_temp.rotate(np.transpose(R), center=(0,0,0))#unrotate get back to original position\n",
    "    \n",
    "    \n",
    "\n",
    "\n",
    "##############################################################################\n",
    "#                             END OF YOUR CODE                               #\n",
    "##############################################################################"
   ]
  },
  {
   "cell_type": "markdown",
   "metadata": {},
   "source": [
    "> VOILA! You have just animated the famous Gimbal lock problem. If you are curious, read about the [Apollo 11](https://en.wikipedia.org/wiki/Gimbal_lock#On_Apollo_11) Gimbal lock incident.\n",
    "\n",
    "### Questions for 2.4 (Optional)\n",
    "\n",
    "- Mention the value(s) of $\\beta$ here: \n",
    "    * Ans: π/2, -π/2\n",
    "- Now that you understand gimbal lock through visualization, explain it now in matrix form: For the above values of $\\beta$, what does the rotation matrix look like? Can you explain why gimbal lock occurs from the rotation matrix alone? Clue: Use sin/cos formulae. \n",
    "    * Ans: - For $\\beta\\$ = π/2 the rotation matrix comes out to be:\n",
    "    \n",
    "    $$M(\\alpha , \\beta ,\\gamma)=\\left[\\begin{array}{rrr}0 & sin(\\gamma-\\alpha) & cos(\\gamma-\\alpha) \\\\0 & cos(\\gamma-\\alpha) & -sin(\\gamma-\\alpha) \\\\\n",
    "    -1 & 0 & 0\\end{array}\\right] $$\n",
    "    \n",
    "    - For $\\beta\\$ = -π/2 the rotation matrix comes out to be:\n",
    "    \n",
    "    $$M(\\alpha , \\beta ,\\gamma)=\\left[\\begin{array}{rrr}0 & -sin(\\alpha+\\gamma) & -cos(\\alpha+\\gamma) \\\\0 & cos(\\alpha+\\gamma) & -sin(\\alpha+\\gamma) \\\\\n",
    "    1 & 0 & 0\\end{array}\\right] $$\n",
    "    \n",
    "    For the above cases, when $\\beta$ = π/2 or -π/2, the equation loses one degree of freedom and only depends on $\\gamma-\\alpha$ or $\\gamma+\\alpha$ rather than $\\alpha,\\beta,\\gamma$ individually and a gimbal lock is achieved.\n",
    "    \n",
    "- Call the function `two_four` for the visualization of gimbal lock written above. "
   ]
  },
  {
   "cell_type": "code",
   "execution_count": 16,
   "metadata": {},
   "outputs": [],
   "source": [
    "#uncomment the following and add input parameters if any\n",
    "two_four([[-45, 0, 35], [-35,90,360], [45,90,-360], [-35,-90,360], [45,-90,-360],[10,90,-360],\n",
    "          [20,90,-360], [80,90,-360]])\n",
    "pass"
   ]
  },
  {
   "cell_type": "code",
   "execution_count": null,
   "metadata": {},
   "outputs": [],
   "source": []
  }
 ],
 "metadata": {
  "celltoolbar": "Edit Metadata",
  "kernelspec": {
   "display_name": "Python 3",
   "language": "python",
   "name": "python3"
  },
  "language_info": {
   "codemirror_mode": {
    "name": "ipython",
    "version": 3
   },
   "file_extension": ".py",
   "mimetype": "text/x-python",
   "name": "python",
   "nbconvert_exporter": "python",
   "pygments_lexer": "ipython3",
   "version": "3.6.9"
  }
 },
 "nbformat": 4,
 "nbformat_minor": 4
}
